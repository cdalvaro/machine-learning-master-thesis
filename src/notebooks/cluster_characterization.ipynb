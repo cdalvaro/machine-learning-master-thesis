{
 "cells": [
  {
   "cell_type": "markdown",
   "metadata": {},
   "source": [
    "# Cluster Characterization\n",
    "\n",
    "This notebook trains an Artificial Neural Network for cluster characterization."
   ]
  },
  {
   "cell_type": "markdown",
   "metadata": {},
   "source": [
    "## Initial settings"
   ]
  },
  {
   "cell_type": "code",
   "execution_count": null,
   "metadata": {},
   "outputs": [],
   "source": [
    "from cdalvaro.catalogues import OpenClust\n",
    "from cdalvaro.data_base import DB\n",
    "from cdalvaro import graphics\n",
    "from cdalvaro.logging import Logger\n",
    "from cdalvaro.ml import DEC\n",
    "from cdalvaro.ml.utils import estimate_n_clusters\n",
    "from IPython.display import Image\n",
    "from keras.initializers import VarianceScaling\n",
    "from keras.optimizers import SGD\n",
    "from keras.utils import plot_model\n",
    "import logging\n",
    "import matplotlib.pyplot as plt\n",
    "import numpy as np\n",
    "import pandas as pd\n",
    "import re\n",
    "import seaborn as sns\n",
    "from sklearn.cluster import KMeans\n",
    "from sklearn.manifold import TSNE\n",
    "from sklearn.preprocessing import MinMaxScaler"
   ]
  },
  {
   "cell_type": "code",
   "execution_count": null,
   "metadata": {},
   "outputs": [],
   "source": [
    "logger = Logger.instance()\n",
    "logger.setLevel(logging.ERROR)\n",
    "\n",
    "db = DB.instance(host='gaia.cdalvaro.io', port=15432)\n",
    "\n",
    "cdalvaro_plot = graphics.Plot(save_figs=False, figs_path=\"../../figures\")\n",
    "\n",
    "save_dir = './results'\n",
    "\n",
    "clusters = OpenClust.catalogue()"
   ]
  },
  {
   "cell_type": "markdown",
   "metadata": {},
   "source": [
    "## Feature selection"
   ]
  },
  {
   "cell_type": "code",
   "execution_count": null,
   "metadata": {},
   "outputs": [],
   "source": [
    "variables = [\n",
    "    \"ra\", \"ra_error\", \"dec\", \"dec_error\", \"pmra\", \"pmra_error\",\n",
    "    \"pmdec\", \"pmdec_error\", \"parallax\", \"parallax_error\",\n",
    "    \"phot_g_mean_mag\", \"bp_rp\"\n",
    "]\n",
    "\n",
    "non_null_columns = list(filter(lambda x: not re.search(r'_error', x), variables))"
   ]
  },
  {
   "cell_type": "markdown",
   "metadata": {},
   "source": [
    "## Stars selection"
   ]
  },
  {
   "cell_type": "code",
   "execution_count": null,
   "metadata": {},
   "outputs": [],
   "source": [
    "cluster = clusters[\"Melotte 22\"]\n",
    "stars_df = db.get_stars(region=cluster, columns=variables, filter_null_columns=non_null_columns)\n",
    "#stars_df.isnull().sum()\n",
    "\n",
    "stars_df['pmmod'] = np.sqrt(stars_df['pmra'] ** 2 + stars_df['pmdec'] ** 2)\n",
    "stars_df['pmang'] = np.arctan2(stars_df['pmdec'], stars_df['pmra'])\n",
    "\n",
    "stars_df.head()"
   ]
  },
  {
   "cell_type": "markdown",
   "metadata": {},
   "source": [
    "## Correlation analysis"
   ]
  },
  {
   "cell_type": "code",
   "execution_count": null,
   "metadata": {},
   "outputs": [],
   "source": [
    "correlation_variables = list(filter(lambda x: not re.search(r'_error', x), stars_df.columns))\n",
    "pairplot_df = stars_df.copy()\n",
    "\n",
    "scaler = MinMaxScaler()\n",
    "pairplot_df[correlation_variables] = scaler.fit_transform(pairplot_df[correlation_variables])\n",
    "#sns.pairplot(pairplot_df[correlation_variables])\n",
    "\n",
    "#plt.savefig(f\"{save_dir}/pairplot.pdf\")"
   ]
  },
  {
   "cell_type": "markdown",
   "metadata": {},
   "source": [
    "## Feature selection"
   ]
  },
  {
   "cell_type": "code",
   "execution_count": null,
   "metadata": {},
   "outputs": [],
   "source": [
    "features = ['pmra', 'pmdec', 'pmmod', 'parallax']"
   ]
  },
  {
   "cell_type": "markdown",
   "metadata": {},
   "source": [
    "## Feature rescaling"
   ]
  },
  {
   "cell_type": "code",
   "execution_count": null,
   "metadata": {},
   "outputs": [],
   "source": [
    "scaler = MinMaxScaler()\n",
    "x = scaler.fit_transform(stars_df[features])"
   ]
  },
  {
   "cell_type": "markdown",
   "metadata": {},
   "source": [
    "## K-Means"
   ]
  },
  {
   "cell_type": "code",
   "execution_count": null,
   "metadata": {},
   "outputs": [],
   "source": [
    "## Step 1 - Creating and training K-means model\n",
    "n_clusters = 6 # estimate_n_clusters(x, verbose=True)\n",
    "kmeans = KMeans(n_clusters=n_clusters)\n",
    "stars_df['cluster_g'] = kmeans.fit_predict(x)"
   ]
  },
  {
   "cell_type": "code",
   "execution_count": null,
   "metadata": {},
   "outputs": [],
   "source": [
    "fig, ax, g = cdalvaro_plot.plot_cluster_proper_motion(stars_df,\n",
    "                                                      img_name=f\"pm_{cluster.name}\",\n",
    "                                                      xlim=(-30, 50), ylim=(-70, 40))"
   ]
  },
  {
   "cell_type": "markdown",
   "metadata": {},
   "source": [
    "# Deep Embedded Clustering (DEC)\n",
    "\n",
    "## Links\n",
    "\n",
    "- https://towardsdatascience.com/deep-clustering-for-financial-market-segmentation-2a41573618cf\n",
    "- https://github.com/yzzhang/machine-learning/tree/master/deep_learning/unsupervised_learning/dec_keras_clustering\n",
    "- https://arxiv.org/pdf/1511.06335.pdf\n",
    "- https://www.dlology.com/blog/how-to-do-unsupervised-clustering-with-keras/\n"
   ]
  },
  {
   "cell_type": "code",
   "execution_count": null,
   "metadata": {
    "tags": []
   },
   "outputs": [],
   "source": [
    "# Reference:\n",
    "#     Unsupervised Deep Embedding for Clustering Analysis - 4.3 Implementation\n",
    "dims = [x.shape[-1], 500, 500, 2000, 10]\n",
    "\n",
    "loss = ['kld', 'mse']\n",
    "optimizer = SGD(1, 0.9)\n",
    "init = VarianceScaling(scale=1./3., mode='fan_in', distribution='uniform')\n",
    "\n",
    "# DEC model\n",
    "dec = DEC(dims=dims, n_clusters=n_clusters, initializer=init)\n",
    "dec.compile(optimizer=optimizer, loss=loss)\n",
    "dec.model.summary()"
   ]
  },
  {
   "cell_type": "code",
   "execution_count": null,
   "metadata": {},
   "outputs": [],
   "source": [
    "plot_model(dec.model, to_file=f'{save_dir}/dec_model.png', show_shapes=True)\n",
    "Image(filename=f'{save_dir}/dec_model.png')"
   ]
  },
  {
   "cell_type": "code",
   "execution_count": null,
   "metadata": {
    "tags": []
   },
   "outputs": [],
   "source": [
    "# Training parameters\n",
    "epochs = 30\n",
    "batch_size = 128\n",
    "maxiter = 1000\n",
    "update_interval = 50\n",
    "verbose = 1\n",
    "\n",
    "dec.pretrain(x, optimizer=optimizer, epochs=epochs, batch_size=batch_size)\n",
    "dec.fit(x, batch_size=batch_size, maxiter=maxiter, update_interval=update_interval, verbose=verbose)"
   ]
  },
  {
   "cell_type": "code",
   "execution_count": null,
   "metadata": {},
   "outputs": [],
   "source": [
    "stars_df['cluster_g'] = dec.predict(x)\n",
    "stars_df['cluster_g'].value_counts()"
   ]
  },
  {
   "cell_type": "code",
   "execution_count": null,
   "metadata": {},
   "outputs": [],
   "source": [
    "fig, ax, g = cdalvaro_plot.plot_cluster_proper_motion(stars_df,\n",
    "                                                      img_name=f\"pm_{cluster.name}\",\n",
    "                                                      xlim=(-30, 50), ylim=(-70, 40))\n",
    "\n",
    "fig, ax, g = cdalvaro_plot.plot_cluster_parallax_histogram(stars_df,\n",
    "                                                           img_name=f\"parallax_{cluster.name}\",\n",
    "                                                           xlim=(-4, 10), stat='density')\n",
    "\n",
    "fig, ax, g = cdalvaro_plot.plot_cluster_isochrone_curve(stars_df,\n",
    "                                                        img_name=f\"isochrone_{cluster.name}\",\n",
    "                                                        xlim=(-1, 4), ylim=(3, 21))"
   ]
  },
  {
   "cell_type": "code",
   "execution_count": null,
   "metadata": {},
   "outputs": [],
   "source": [
    "x_embedded = TSNE(n_components=2).fit_transform(x)\n",
    "\n",
    "vis_x = x_embedded[:, 0]\n",
    "vis_y = x_embedded[:, 1]\n",
    "plt.scatter(vis_x, vis_y, c=stars_df['clusters'], cmap=graphics.color_palette())\n",
    "plt.colorbar(ticks=range(256))\n",
    "plt.clim(-0.5, 9.5)\n",
    "plt.show()"
   ]
  }
 ],
 "metadata": {
  "kernelspec": {
   "display_name": "plaidml",
   "language": "python",
   "name": "plaidml"
  },
  "language_info": {
   "codemirror_mode": {
    "name": "ipython",
    "version": 3
   },
   "file_extension": ".py",
   "mimetype": "text/x-python",
   "name": "python",
   "nbconvert_exporter": "python",
   "pygments_lexer": "ipython3",
   "version": "3.8.6-final"
  }
 },
 "nbformat": 4,
 "nbformat_minor": 2
}